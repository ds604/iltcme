{
 "cells": [
  {
   "cell_type": "markdown",
   "metadata": {},
   "source": [
    "Gábor Horváth, Illés Horváth, Salah Al-Deen Almousa, Miklós Telek\n",
    "# Inverse Laplace Transform with Concentrated Matrix-Exponential Functions"
   ]
  },
  {
   "cell_type": "markdown",
   "metadata": {},
   "source": [
    "## Implementation of the inverse Laplace transform procedure\n",
    "\n",
    "Note: the \"iltcme.json\" (containing the coefficients of the CME functions) must be in the working folder"
   ]
  },
  {
   "cell_type": "code",
   "execution_count": 1,
   "metadata": {},
   "outputs": [],
   "source": [
    "import math\n",
    "import cmath\n",
    "import json\n",
    "import numpy as np\n",
    "\n",
    "def ilt(fun, T, maxFnEvals, method=\"cme\"):\n",
    "    if method==\"cme\":\n",
    "        if \"cmeParams\" not in globals():\n",
    "            with open('iltcme.json') as f:\n",
    "                globals()[\"cmeParams\"] = json.load(f)\n",
    "        # find the most steep CME satisfying maxFnEvals\n",
    "        params = cmeParams[0]\n",
    "        for p in cmeParams:\n",
    "            if p[\"cv2\"] < params[\"cv2\"] and p[\"n\"]+1 <= maxFnEvals:\n",
    "                params = p\n",
    "        eta = np.concatenate(([params[\"c\"]], np.array(params[\"a\"]) + 1j*np.array(params[\"b\"])))*params[\"mu1\"]\n",
    "        beta = np.concatenate(([1], 1 + 1j*np.arange(1,params[\"n\"]+1)*params[\"omega\"]))*params[\"mu1\"]\n",
    "    elif method==\"euler\":\n",
    "        n_euler = math.floor((maxFnEvals-1)/2)\n",
    "        eta = np.concatenate(([0.5], np.ones(n_euler), np.zeros(n_euler-1), [2**-n_euler]))\n",
    "        logsum = np.cumsum(np.log(np.arange(1,n_euler+1)))\n",
    "        for k in range(1,n_euler):\n",
    "            eta[2*n_euler-k] = eta[2*n_euler-k + 1] + math.exp(logsum[n_euler-1] - n_euler*math.log(2.0) - logsum[k-1] - logsum[n_euler-k-1])\n",
    "        k = np.arange(2*n_euler+1)\n",
    "        beta = n_euler*math.log(10.0)/3.0 + 1j*math.pi*k\n",
    "        eta  = (10**((n_euler)/3.0))*(1-(k%2)*2) * eta\n",
    "    elif method==\"gaver\":\n",
    "        if maxFnEvals%2==1:\n",
    "            maxFnEvals -= 1\n",
    "        ndiv2 = int(maxFnEvals/2)\n",
    "        eta = np.zeros(maxFnEvals);\n",
    "        beta = np.zeros(maxFnEvals);\n",
    "        logsum = np.concatenate(([0], np.cumsum(np.log(np.arange(1,maxFnEvals+1)))))\n",
    "        for k in range(1,maxFnEvals+1):\n",
    "            inside_sum = 0.0;\n",
    "            for j in range(math.floor((k+1)/2), min(k,ndiv2)+1):\n",
    "                inside_sum += math.exp((ndiv2+1)*math.log(j) - logsum[ndiv2-j] + logsum[2*j] - 2*logsum[j] - logsum[k-j] - logsum[2*j-k]);\n",
    "            eta[k-1] = math.log(2.0)*(-1)**(k+ndiv2)*inside_sum;\n",
    "            beta[k-1] = k * math.log(2.0);\n",
    "            \n",
    "    res = [];\n",
    "    for x in T:\n",
    "        res.append(eta.dot([fun(b/x) for b in beta]).real/x)\n",
    "    return res"
   ]
  },
  {
   "cell_type": "markdown",
   "metadata": {},
   "source": [
    "## Demonstration of the usage"
   ]
  },
  {
   "cell_type": "markdown",
   "metadata": {},
   "source": [
    "Some test functions:"
   ]
  },
  {
   "cell_type": "code",
   "execution_count": 2,
   "metadata": {},
   "outputs": [],
   "source": [
    "tFuns = {\"exponential\": {\n",
    "            \"ilt\": lambda x: math.exp(-x),\n",
    "            \"lt\": lambda s: 1/(1+s),\n",
    "            \"xvals\": np.arange(0.1, 5, 0.01),\n",
    "            \"yrange\": [-0.5, 1.5]},\n",
    "        \"sine\": {\n",
    "            \"ilt\": lambda x: math.sin(x),\n",
    "            \"lt\": lambda s: 1/(1+s**2),\n",
    "            \"xvals\": np.arange(0.1, 15, 0.05),\n",
    "            \"yrange\": [-1.2, 1.2]},\n",
    "        \"heavyside\": {\n",
    "            \"ilt\": lambda x: int(x>1),\n",
    "            \"lt\": lambda s: cmath.exp(-s)/s,\n",
    "            \"xvals\": np.arange(0.1, 3, 0.01),\n",
    "            \"yrange\": [-0.5, 1.5]},\n",
    "        \"expheavyside\": {\n",
    "            \"ilt\": lambda x: int(x>1)*math.exp(1-x),\n",
    "            \"lt\": lambda s: cmath.exp(-s)/(1+s),\n",
    "            \"xvals\": np.arange(0.1, 5, 0.01),\n",
    "            \"yrange\": [-0.5, 1.2]},\n",
    "        \"squarewave\": {\n",
    "            \"ilt\": lambda x: int(math.floor(x))%2,\n",
    "            \"lt\": lambda s: (1.0/s)*(1.0/(1.0+cmath.exp(s))),\n",
    "            \"xvals\": np.arange(0.1, 10, 0.02),\n",
    "            \"yrange\": [-1.0, 2.0]},\n",
    "        \"staircase\": {\n",
    "            \"ilt\": lambda x: int(math.floor(x)),\n",
    "            \"lt\": lambda s: (1.0/s)*(1.0/(cmath.exp(s)-1.0)),\n",
    "            \"xvals\": np.arange(0.1, 5, 0.01),\n",
    "            \"yrange\": [-1.0, 5.0]}\n",
    "        }"
   ]
  },
  {
   "cell_type": "markdown",
   "metadata": {},
   "source": [
    "The interactive demo:"
   ]
  },
  {
   "cell_type": "code",
   "execution_count": 3,
   "metadata": {},
   "outputs": [
    {
     "data": {
      "application/vnd.jupyter.widget-view+json": {
       "model_id": "4d39c91162ed45cf9024c3fb71de6261",
       "version_major": 2,
       "version_minor": 0
      },
      "text/plain": [
       "interactive(children=(IntSlider(value=25, description='funEvals', max=500, min=3), Dropdown(description='testF…"
      ]
     },
     "metadata": {},
     "output_type": "display_data"
    }
   ],
   "source": [
    "from ipywidgets import interact, interactive, fixed, interact_manual\n",
    "import ipywidgets as widgets\n",
    "import matplotlib.pyplot as plt\n",
    "%matplotlib inline\n",
    "\n",
    "@interact(funEvals=widgets.IntSlider(min=3,max=500,step=1,value=25), testFunction=[\"staircase\",\"exponential\",\"sine\",\"heavyside\",\"expheavyside\",\"squarewave\"])\n",
    "def demo(funEvals, testFunction):\n",
    "    euler = []\n",
    "    gaver = []\n",
    "    try:\n",
    "        exact = [tFuns[testFunction][\"ilt\"](x) for x in tFuns[testFunction][\"xvals\"]]\n",
    "        cme = ilt(tFuns[testFunction][\"lt\"], tFuns[testFunction][\"xvals\"], funEvals, \"cme\")\n",
    "        euler = ilt(tFuns[testFunction][\"lt\"], tFuns[testFunction][\"xvals\"], funEvals, \"euler\")\n",
    "        gaver = ilt(tFuns[testFunction][\"lt\"], tFuns[testFunction][\"xvals\"], funEvals, \"gaver\")\n",
    "    except:\n",
    "        pass\n",
    "    plt.figure(figsize=(8, 6))\n",
    "    plt.plot(exact, label=\"Exact\")\n",
    "    plt.plot(euler, label=\"Euler\")\n",
    "    plt.plot(gaver, label=\"Gaver\")\n",
    "    plt.plot(cme, label=\"CME\")\n",
    "    plt.ylim(tFuns[testFunction][\"yrange\"])\n",
    "    plt.legend()"
   ]
  },
  {
   "cell_type": "code",
   "execution_count": null,
   "metadata": {},
   "outputs": [],
   "source": []
  }
 ],
 "metadata": {
  "kernelspec": {
   "display_name": "Python 3",
   "language": "python",
   "name": "python3"
  },
  "language_info": {
   "codemirror_mode": {
    "name": "ipython",
    "version": 3
   },
   "file_extension": ".py",
   "mimetype": "text/x-python",
   "name": "python",
   "nbconvert_exporter": "python",
   "pygments_lexer": "ipython3",
   "version": "3.7.2"
  }
 },
 "nbformat": 4,
 "nbformat_minor": 2
}
